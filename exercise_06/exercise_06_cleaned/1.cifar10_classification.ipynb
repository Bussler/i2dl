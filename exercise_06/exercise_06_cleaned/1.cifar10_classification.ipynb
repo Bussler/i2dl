{
 "cells": [
  {
   "cell_type": "markdown",
   "metadata": {},
   "source": [
    "# Cifar10 Classification"
   ]
  },
  {
   "cell_type": "markdown",
   "metadata": {},
   "source": [
    "Until now, we have implemented several pieces of a deep learning pipeline and even trained a two-layer neural network, but all the hyperparameters were already set to some values yielding resonable results. In real-life problems, however, much of the work in a deep learning project will be geared towards finding the best hyperparameters for a certain problem. In this notebook we will explore some good practices for network debugging and hyperparameters search, as well as extending our previously binary classification neural network to a multi-class one.\n",
    "\n",
    "Let's go!"
   ]
  },
  {
   "cell_type": "code",
   "execution_count": 2,
   "metadata": {},
   "outputs": [],
   "source": [
    "# Some lengthy setup.\n",
    "import matplotlib.pyplot as plt\n",
    "import numpy as np\n",
    "import os\n",
    "\n",
    "from exercise_code.networks.layer import (\n",
    "    Sigmoid, \n",
    "    Relu, \n",
    "    LeakyRelu, \n",
    "    Tanh,\n",
    ")\n",
    "from exercise_code.data import (\n",
    "    DataLoader,\n",
    "    ImageFolderDataset,\n",
    "    RescaleTransform,\n",
    "    NormalizeTransform,\n",
    "    FlattenTransform,\n",
    "    ComposeTransform,\n",
    ")\n",
    "from exercise_code.data.image_folder_dataset import RandomHorizontalFlip\n",
    "from exercise_code.networks import (\n",
    "    ClassificationNet,\n",
    "    BCE,\n",
    "    CrossEntropyFromLogits\n",
    ")\n",
    "\n",
    "%load_ext autoreload\n",
    "%autoreload 2\n",
    "%matplotlib inline\n",
    "\n",
    "plt.rcParams['figure.figsize'] = (10.0, 8.0) # set default size of plots\n",
    "plt.rcParams['image.interpolation'] = 'nearest'\n",
    "plt.rcParams['image.cmap'] = 'gray'"
   ]
  },
  {
   "cell_type": "markdown",
   "metadata": {},
   "source": [
    "# 1. Quick recap (and some new things)"
   ]
  },
  {
   "cell_type": "markdown",
   "metadata": {},
   "source": [
    "Until now, in the previous exercises, we focused on building and understanding all the necessary modules for training a simple model. We followed the Pytorch implementations closely, as this is the framework we will use later and we want you to have a smoother transition to its APIs. \n",
    "\n",
    "In the figure below you can see the main components in Pytorch. Before starting the actual exercise, we begin with a quick recap of **our implementation** of these components. \n",
    "\n",
    "<div class=\"alert alert-success\">\n",
    "    <h3>Task: Check Code</h3>\n",
    "    <p>Everything is already implemented for this part, but we <b>strongly</b> encourage you to check out the respective source files in order to have a better understanding. </p>\n",
    "</div>"
   ]
  },
  {
   "cell_type": "markdown",
   "metadata": {},
   "source": [
    "<img src=\"https://cdn-images-1.medium.com/max/800/1*uZrS4KjAuSJQIJPgOiaJUg.png\" style=\"width: 500px;\">"
   ]
  },
  {
   "cell_type": "markdown",
   "metadata": {},
   "source": [
    "## 1.1 Dataset and Dataloader"
   ]
  },
  {
   "cell_type": "markdown",
   "metadata": {},
   "source": [
    "Data preparation represents an important part of deep learning projects. The data comes from different sources and in different formats and is prepared differently from application to application. One part, however, is clear: because entire datasets are usually too large for us to handle at once, we train our models on smaller batches of data. \n",
    "\n",
    "The goal of the ```Dataset``` class is to encapsulate all the 'dirty' data processing: loading and cleaning the data, storing features (or names of files where features can be found) and labels, as well as providing the means for accessing individual (transformed) items of the data using the ```__getitem__()``` function and an index. You already implemented an ```ImageFolderDataset``` (in ```exercise_code/data/image_folder_dataset.py```) class in Exercise 3. We we will reuse this class here.\n",
    "\n",
    "For processing the data, you implemented several transforms in Exercise 3 (```RescaleTransform```, ```NormalizeTransform```, ```ComposeTransform```). In this exercise we are working with images, which are multidimensional arrays, but we are using simple feedforward neural network which takes a one dimensional array as an input, so it is necessary to reshape the images before feeding them into the model. \n",
    "\n",
    "<div class=\"alert alert-success\">\n",
    "    <h3>Task: Check Code</h3>\n",
    "    <p>Please check the implementation of the reshape operation in the <code>FlattenTransform</code> class, which can be found in <code>../exercise_06/exercise_code/data/image_folder_dataset.py</code>. </p>\n",
    "</div>"
   ]
  },
  {
   "cell_type": "code",
   "execution_count": 3,
   "metadata": {},
   "outputs": [
    {
     "name": "stdout",
     "output_type": "stream",
     "text": [
      "C:\\Users\\Maarten\\Documents\\GitHub\\i2dl\\exercise_06\n",
      "C:\\Users\\Maarten\\Documents\\GitHub\\i2dl\\exercise_06\\datasets\\cifar10\n"
     ]
    }
   ],
   "source": [
    "download_url = \"https://i2dl.vc.in.tum.de/static/data/cifar10.zip\"\n",
    "i2dl_exercises_path = os.path.dirname(os.path.abspath(os.getcwd()))\n",
    "cifar_root = os.path.join(i2dl_exercises_path, \"datasets\", \"cifar10\")\n",
    "\n",
    "# Use the Cifar10 mean and standard deviation computed in Exercise 3.\n",
    "cifar_mean = np.array([0.49191375, 0.48235852, 0.44673872])\n",
    "cifar_std  = np.array([0.24706447, 0.24346213, 0.26147554])\n",
    "\n",
    "# Define all the transforms we will apply on the images when \n",
    "# retrieving them.\n",
    "rescale_transform = RescaleTransform()\n",
    "normalize_transform = NormalizeTransform(\n",
    "    mean=cifar_mean,\n",
    "    std=cifar_std\n",
    ")\n",
    "flatten_transform = FlattenTransform()\n",
    "compose_transform = ComposeTransform([rescale_transform, \n",
    "                                      normalize_transform,\n",
    "                                      flatten_transform])\n",
    "\n",
    "# Create a train, validation and test dataset.\n",
    "datasets = {}\n",
    "for mode in ['train', 'val', 'test']:\n",
    "    crt_dataset = ImageFolderDataset(\n",
    "        mode=mode,\n",
    "        root=cifar_root, \n",
    "        download_url=download_url,\n",
    "        transform=compose_transform,\n",
    "        split={'train': 0.6, 'val': 0.2, 'test': 0.2}\n",
    "    )\n",
    "    datasets[mode] = crt_dataset\n",
    "    \n",
    "print(i2dl_exercises_path)\n",
    "print(cifar_root)"
   ]
  },
  {
   "cell_type": "markdown",
   "metadata": {},
   "source": [
    "Then, based on this ```Dataset``` object, we can construct a ```Dataloader``` object which samples a random mini-batch of data at once. "
   ]
  },
  {
   "cell_type": "code",
   "execution_count": 4,
   "metadata": {},
   "outputs": [],
   "source": [
    "# Create a dataloader for each split.\n",
    "dataloaders = {}\n",
    "for mode in ['train', 'val', 'test']:\n",
    "    crt_dataloader = DataLoader(\n",
    "        dataset=datasets[mode],\n",
    "        batch_size=256,\n",
    "        shuffle=True,\n",
    "        drop_last=True,\n",
    "    )\n",
    "    dataloaders[mode] = crt_dataloader"
   ]
  },
  {
   "cell_type": "markdown",
   "metadata": {},
   "source": [
    "Because the ```Dataloader``` has the ```__iter__()``` method, we can simply iterate through the batches it produces, like this:\n",
    "\n",
    "```python\n",
    "for batch in dataloader['train']:\n",
    "    do_something(batch)\n",
    "```"
   ]
  },
  {
   "cell_type": "markdown",
   "metadata": {},
   "source": [
    "## 1.2 Data Augmentation\n",
    "\n",
    "After the above preprocessing steps, our data is in a good shape and ready to be fed into our network. As explained in the chapter above, we used the transformation functions `RescaleTransform`, `NormalizeTransform` and `FlattenTransform` to achieve this shape. These are the general steps that you need to perform on the data before we can even start the training. Of course, all these steps have to be applied to all three splits of our dataset (train, val and test split). So in other words, preprocessing involves preparing the data before they are used in training and inference. \n",
    "\n",
    "Besides these basic transformations, there are many other transformation methods that you can apply to the images. For example, you can <b>flip the images horizontally</b> or <b>blur the image</b> and use these new images to enlarge your dataset. This idea is called Data Augmentation and it involves methods that alter the training images to generate a synthetic dataset that is larger than your original dataset and will hopefully improve the performance of your model. The purpose here is different than in the data preprocessing steps and there is one big difference between data augmentation and data preprocessing: The transformation methods to enlarge your dataset should only be applied to the training data. The validation and test data are not affected by these methods.\n",
    "\n",
    "<div class=\"alert alert-success\">\n",
    "    <h3>Task: Check Code</h3>\n",
    "    <p>The choice of transformation methods to use for data augmentation can be seen as a hyperparameter of your model and you can try to include these to enlarge your training data and obtain better results for your model. In <code>exercise_code/data/image_folder_dataset.py</code> we implemented the function <code>RandomHorizontalFlip</code> for you, which is randomly flipping an image. Check out the implementation.</p>\n",
    "    <p> Later, we will apply some hyperparameter tuning and in order to improve your model's accuracy, you could try to include some data augmentation methods. Fell free to play around and maybe also implement some other methods as for example Gaussian Blur or Rotation. </p>       \n",
    "</div>\n",
    "\n",
    "Let us quickly check out the `RandomHorizontalFlip` method with an image of the Cifar10 dataset in the following cell."
   ]
  },
  {
   "cell_type": "code",
   "execution_count": 6,
   "metadata": {},
   "outputs": [
    {
     "data": {
      "image/png": "[encoded data removed]",
      "text/plain": [
       "<Figure size 144x144 with 2 Axes>"
      ]
     },
     "metadata": {
      "needs_background": "light"
     },
     "output_type": "display_data"
    }
   ],
   "source": [
    "#Load the data in a dataset without any transformation \n",
    "dataset = ImageFolderDataset(\n",
    "        mode=mode,\n",
    "        root=cifar_root, \n",
    "        download_url=download_url,\n",
    "        split={'train': 0.6, 'val': 0.2, 'test': 0.2},\n",
    "    )\n",
    "\n",
    "#Retrieve an image from the dataset and flip it\n",
    "image = dataset[1]['image']\n",
    "transform = RandomHorizontalFlip(1)\n",
    "image_flipped = transform(image)\n",
    "\n",
    "#Show the two images\n",
    "plt.figure(figsize = (2,2))\n",
    "plt.subplot(1, 2, 1)\n",
    "plt.imshow(image.astype('uint8'))\n",
    "plt.axis('off')\n",
    "plt.subplot(1, 2, 2)\n",
    "plt.imshow(image_flipped.astype('uint8'))\n",
    "plt.axis('off')\n",
    "plt.title(\"Left: Original Image, Right: Flipped image\")\n",
    "plt.show()"
   ]
  },
  {
   "cell_type": "markdown",
   "metadata": {},
   "source": [
    "## 1.3 Layers\n",
    "\n",
    "Now, that the data is prepared, we can discuss the model in which we are feeding the data. In our case the model will be a neural network. \n",
    "\n",
    "In Exercise 5, you implemented a simple 2-layer neural network that had a hidden size as a parameter:\n",
    "\n",
    "$$ \n",
    "{\\hat{y}} = \\sigma(\\sigma({x W_1} + {b_1}) {W_2} + {b_2}) \n",
    "$$\n",
    "\n",
    "where $ \\sigma({x}) $ was the sigmoid function, $ {x} $ was the input, $ {W_1}, {W_2} $ the weight matrices and $ {b_1}, {b_2}$ the biases for the two layers.\n",
    "\n",
    "This is how we used this network:"
   ]
  },
  {
   "cell_type": "code",
   "execution_count": 7,
   "metadata": {},
   "outputs": [],
   "source": [
    "input_size = datasets['train'][0]['image'].shape[0]\n",
    "model = ClassificationNet(input_size=input_size, \n",
    "                          hidden_size=512)"
   ]
  },
  {
   "cell_type": "markdown",
   "metadata": {},
   "source": [
    "Note that we updated the ```ClassificationNet``` from the previous exercise, so that now you can customize more: the number of outputs, the choice of activation function, the hidden size etc. We encourage you to check out the implementation in ```exercise_code/networks/classification_net.py``` "
   ]
  },
  {
   "cell_type": "code",
   "execution_count": 8,
   "metadata": {},
   "outputs": [],
   "source": [
    "num_layer = 2\n",
    "reg = 0.1\n",
    "\n",
    "model = ClassificationNet(activation=Sigmoid(), \n",
    "                          num_layer=num_layer, \n",
    "                          reg=reg,\n",
    "                          num_classes=10)"
   ]
  },
  {
   "cell_type": "markdown",
   "metadata": {},
   "source": [
    "Then, the forward and backward passes through the model were simply:\n",
    "\n",
    "```python\n",
    "\n",
    "# X is a batch of training features \n",
    "# X.shape = (batch_size, features_size)\n",
    "y_out = model.forward(X)\n",
    "\n",
    "# dout is the gradient of the loss function w.r.t the output of the network.\n",
    "# dout.shape = (batch_size, )\n",
    "model.backward(dout)\n",
    "```"
   ]
  },
  {
   "cell_type": "markdown",
   "metadata": {},
   "source": [
    "Just as the learning rate or the number of iterations we want to train for, the number of hidden layers and the number of units in each hidden layer are also hyperparameters. In this notebook you will play with networks of different sizes and will see the impact that the network capacity has.\n",
    "\n",
    "Before we move on to the loss functions, we want to have a look at the activation functions. The choice of an activation function can have a huge impact on the performance of the network that you are designing. So far, you have implemented the `Sigmoid` and the `Relu` activation function in Exercise 5. \n",
    "\n",
    "<div class=\"alert alert-success\">\n",
    "    <h3>Task: Check Code</h3>\n",
    "    <p>Take a look at the <code>Sigmoid</code> and the <code>Relu</code> class in <code>exercise_code/networks/layer.py</code> and the implementation of the respective forward and backward pass. Make sure to understand why we use <b>element-wise product</b> instead of dot product in the backward pass of the <code>Sigmoid</code> class to compute the gradient $dx$. That will be helpful for your later implementation of other activation functions.</p>\n",
    "    <p> <b>Note:</b> The <code>cache</code> variable is used to store information from the forward pass and then pass this information in the backward pass to make use of it there. The implementation of both classes show that this variable can be used differently - depending on what information is needed in the backward pass. </p>\n",
    "</div>\n",
    "\n",
    "Now, we want to have a look at two other, very common activation functions that you have already met in the lecture: Leaky ReLU activation function and Tanh activation function. \n",
    "\n",
    "**Leaky Relus** are one attempt to fix the “dying ReLU” problem. Instead of the function being zero when $x<0$, a leaky ReLU has a small negative slope (for example, 0.01). That is, the function computes $f(x) = \\mathbb{1}(x < 0) (\\alpha x) + \\mathbb{1}(x>=0) (x)$ where $\\alpha$ is a small constant. Some people report success with this form of activation function, but the results are not always consistent.\n",
    "\n",
    "The **tanh non-linearity** squashes a real-valued number to the range [-1, 1]. Like the sigmoid neuron, its activations saturate, but unlike the sigmoid neuron its output is zero-centered. Therefore, in practice the tanh non-linearity is always preferred to the sigmoid non-linearity. Also note that the tanh neuron is simply a scaled sigmoid neuron, in particular the following holds: $\\tanh(x) = 2 \\cdot \\sigma(2x) -1$.\n",
    "\n",
    "<img class=left src=https://pytorch.org/docs/stable/_images/LeakyReLU.png alt=\"Figure3\" width=\"350\" align='left'/> \n",
    "<img class=right src=https://pytorch.org/docs/stable/_images/Tanh.png alt=\"Figure4\" width=\"350\"/>\n",
    "\n",
    "<div class=\"alert alert-info\">\n",
    "    <h3>Task: Implement Activation Layers</h3>\n",
    "    <p> Now, it is your turn to implement the <code>LeakyRelu</code> and the <code>Tanh</code> class in <code>exercise_code/networks/layer.py</code> by completing the <code>forward</code> and the <code>backward</code> functions. You can test your implementation in the following two cells. </p>\n",
    "    <p> <b>Note:</b> Always remember to return a cache in <code>forward</code> for later backpropagation in <code>backward</code>. As we have seen above, the <code>cache</code> variable can be used differently for two activation functions.</p>\n",
    "</div>\n",
    "\n",
    "Use this cell to test your implementation of the `LeakyRelu` class:"
   ]
  },
  {
   "cell_type": "code",
   "execution_count": 9,
   "metadata": {},
   "outputs": [
    {
     "name": "stdout",
     "output_type": "stream",
     "text": [
      "LeakyReluForwardTest passed.\n",
      "LeakyReluBackwardTest passed.\n",
      "Congratulations you have passed all the unit tests!!! Tests passed: 2/2\n",
      "Score: 100/100\n",
      "You secured a score of :100\n"
     ]
    }
   ],
   "source": [
    "from exercise_code.tests.layer_tests import *\n",
    "print(LeakyReluTestWrapper()())"
   ]
  },
  {
   "cell_type": "markdown",
   "metadata": {},
   "source": [
    "And this cell to test your implementation of the `Tanh` class:"
   ]
  },
  {
   "cell_type": "code",
   "execution_count": 10,
   "metadata": {},
   "outputs": [
    {
     "name": "stdout",
     "output_type": "stream",
     "text": [
      "TanhForwardTest passed.\n",
      "TanhBackwardTest passed.\n",
      "Congratulations you have passed all the unit tests!!! Tests passed: 2/2\n",
      "Score: 100/100\n",
      "You secured a score of :100\n"
     ]
    }
   ],
   "source": [
    "print(TanhTestWrapper()())"
   ]
  },
  {
   "cell_type": "markdown",
   "metadata": {},
   "source": [
    "Congratulations, you now implemented all four different activation functions! These activation layers are now ready to be used when you start building your own network."
   ]
  },
  {
   "cell_type": "markdown",
   "metadata": {},
   "source": [
    "## 1.4 Loss\n",
    "\n",
    "In order to measure how well a network is performing, we implemented several ```Loss``` classes (```L1```, ```MSE```, ```BCE```, each preferred for a certain type of problems) in ```exercise_code/networks/loss.py```.\n",
    "\n",
    "Each implemented a ```forward()``` method, which outputs a number that we use as a proxy for our network performance. \n",
    "\n",
    "Also, because our goal was to change the weights of the network such that this loss measure decreases, we were also interested in the gradients of the loss w.r.t the outputs of the network, $ \\nabla_{\\hat{y}} L({\\hat{y}}, {y}) $. This was implemented in ```backward()```. \n",
    "\n",
    "In previous exercises, we only worked with binary classification and used binary cross entropy (```BCE```) as a loss function.\n",
    "\n",
    "$$ BCE(\\hat{y}, y) = \\frac{1}{N} \\sum_{i=1}^N \\Big [-y_i \\log(\\hat{y_i}) - (1-y_i) \\log(1 - \\hat{y_i}) \\Big] $$ \n",
    "\n",
    "where\n",
    "- $ N $ was the number of samples we were considering\n",
    "- $\\hat{y}_i$ was the network's prediction for sample $i$. Note that this was a valid probability $\\in [0, 1]$, because we applied a [sigmoid](https://en.wikipedia.org/wiki/Sigmoid_function) activation on the last layer. \n",
    "- $ y_i $ was the ground truth label (0 or 1, depending on the class)\n",
    "\n",
    "Because we have 10 classes in the CIFAR10 dataset, we need a generalization of the binary cross entropy for multiple classes. This is simply called the cross entropy loss and has the following definition:\n",
    "\n",
    "$$ CE(\\hat{y}, y) = \\frac{1}{N} \\sum_{i=1}^N \\sum_{k=1}^{C} \\Big[ -y_{ik} \\log(\\hat{y}_{ik}) \\Big] $$\n",
    "\n",
    "where:\n",
    "- $ N $ is again the number of samples\n",
    "- $ C $ is the number of classes\n",
    "- $ \\hat{y}_{ik} $ is the probability that the model assigns for the $k$th class when the $i$th sample is the input. **Because we don't apply any activation function on the last layer of our network, its outputs for each sample will not be a valid probability distribution over the classes. We call these raw outputs of the network '[logits](https://datascience.stackexchange.com/questions/31041/what-does-logits-in-machine-learning-mean/31045)' and we will apply a [softmax](https://en.wikipedia.org/wiki/Softmax_function) activation in order to obtain a valid probability distribution.** \n",
    "- $y_{ik} = 1 $ iff the true label of the $i$th sample is $k$ and 0 otherwise. This is called a [one-hot encoding](https://machinelearningmastery.com/why-one-hot-encode-data-in-machine-learning/).\n",
    "\n",
    "You can check for yourself that when the number of classes $ C $ is 2, then the binary cross entropy is actually equivalent to the cross entropy.\n",
    "\n",
    "<div class=\"alert alert-success\">\n",
    "    <h3>Task: Check Code</h3>\n",
    "    <p>Please check the implementation of the <code>CrossEntropyFromLogits</code> class, which can be found in <code>../exercise_06/exercise_code/networks/loss.py</code>. </p>\n",
    "</div>"
   ]
  },
  {
   "cell_type": "code",
   "execution_count": 11,
   "metadata": {},
   "outputs": [],
   "source": [
    "loss = CrossEntropyFromLogits()"
   ]
  },
  {
   "cell_type": "markdown",
   "metadata": {},
   "source": [
    "Just as with the previous losses we have seen, we can simply get the results of the forward and backward passes as follows:"
   ]
  },
  {
   "cell_type": "markdown",
   "metadata": {},
   "source": [
    "```python\n",
    "# y_out is the output of the neural network\n",
    "# y_truth is the actual label from the dataset\n",
    "loss.forward(y_out, y_truth)\n",
    "loss.backward(y_out, y_truth)\n",
    "```"
   ]
  },
  {
   "cell_type": "markdown",
   "metadata": {},
   "source": [
    "## 1.5 Optimizer\n",
    "\n",
    "Now, knowing the gradient of the loss w.r.t the ouputs of the network, as well as the local gradient for each layer of the network, we can use the chain rule to compute all gradients. \n",
    "\n",
    "<div class=\"alert alert-success\">\n",
    "    <h3>Task: Check Code</h3>\n",
    "    <p>We implemented several optimizer classes <code>SGD</code>, <code>Adam</code>, <code>sgd_momentum</code> class that implement different first-order parameter update rules, which can be found in <code>../exercise_06/exercise_code/networks/optimizer.py</code>. </p>\n",
    "    <p>The <code>step()</code> method iterates through all the parameters of a model and updates them using the gradient information.</p>\n",
    "</div>\n",
    "\n",
    "What the optimizer is doing, in pseudocode, is the following:\n",
    "\n",
    "```python\n",
    "for param in model:\n",
    "    # Use the gradient to update the weights.\n",
    "    update(param)\n",
    "    \n",
    "    # Reset the gradient after each update.\n",
    "    param.gradient = 0\n",
    "```\n",
    "\n",
    "```SGD``` had the simplest update rule:\n",
    "```python\n",
    "def update(param):\n",
    "    param = param - learning_rate * param.gradient\n",
    "```\n",
    "\n",
    "For the more complicated update rules, see ```exercise_code/networks/optimizer.py```"
   ]
  },
  {
   "cell_type": "markdown",
   "metadata": {},
   "source": [
    "## 1.6 Solver\n",
    "\n",
    "The ```Solver``` is where all the above elements come together: Given a train and a validation dataloader, a model, a loss and an optimizer, it uses the training data to optimize a model in order to get better predictions. We simply call ```train()``` and it does its 'magic' for us!\n",
    "```python\n",
    "solver = Solver(model, \n",
    "                dataloaders['train'], \n",
    "                dataloaders['val'], \n",
    "                learning_rate=0.001, \n",
    "                loss_func=MSE(), \n",
    "                optimizer=SGD)\n",
    "\n",
    "solver.train(epochs=epochs)\n",
    "```\n",
    "\n",
    "<div class=\"alert alert-success\">\n",
    "    <h3>Task: Check Code</h3>\n",
    "    <p>Please check out the implementation of <code>train()</code> in <code>../exercise_06/exercise_code/solver.py</code>. </p>\n",
    "</div>"
   ]
  },
  {
   "cell_type": "markdown",
   "metadata": {},
   "source": [
    "## 1.7 Weight Regularization\n",
    "\n",
    "Before we finish this section of recap, we want to take a look at some regularization method that has been introduced in the lecture and that is super helpful to improve robustness of our model. Here, we talk about weight regularization.\n",
    "\n",
    "Weight regularization has been introduced to you as a method preventing our model from overfitting. Essentially, it is a term (solely depending on the weights of our model) that is added to the final loss and that encodes some preference for a certain set of weights $W$ over others. In the lecture, we compared two weight regularization methods and their respective preference for weight vectors. We made the following observation: \n",
    "\n",
    "1. L1 regularization: Enforces sparsity \n",
    "2. L2 regularization: Enforces that weights have similar values\n",
    "\n",
    "The most common weight regularization method is the L2 regularization. From the observations made in the lecture that makes totally sense - at least when we compare it to the L1 regularization. The L2 regularization penalty in the loss prefers smaller and more diffuse weight vectors and hence the model is encouraged to take into account all input dimensions to small amounts rather than a few input dimensions and very strongly.\n",
    "\n",
    "When using weight regularization, the loss function is a composition of two parts:\n",
    "$$L = \\underbrace{\\frac{1}{N} \\sum_{i} L_i}_{\\text{data loss}}  + \\underbrace{\\lambda R(W)}_{\\text{regularization loss}}$$\n",
    "The first one being the data loss, which is calculated with the Cross Entropy loss in our model. The second part is called the regularization loss $R(W)$ and is computed in the L2 case as follows:\n",
    "$$R(W) = \\sum_{k} \\sum_{l} w_{k,l}^2$$\n",
    "\n"
   ]
  },
  {
   "cell_type": "markdown",
   "metadata": {},
   "source": [
    "# 2. An overview of hyperparameters"
   ]
  },
  {
   "cell_type": "markdown",
   "metadata": {
    "collapsed": true
   },
   "source": [
    "\n",
    "<img src=https://images.deepai.org/glossary-terms/05c646fe1676490aa0b8cab0732a02b2/hyperparams.png alt=hyperparameter width=700>\n",
    "\n",
    "A **hyperparameter** is a parameter that is set before the learning process begins. Recall that the parameters of weight matrix and bias vector are learned during the learning process.\n",
    "\n",
    "The hyperparameters are essential, for they control and affect the whole training and have a great impact on the performance of the model. \n",
    "\n",
    "Some examples of hyperparameters we have covered in lectures:\n",
    "* Network architecture\n",
    "    * Choice of activation function\n",
    "    * Number of layers\n",
    "    * ...\n",
    "* Learning rate\n",
    "* Number of epochs\n",
    "* Batch size\n",
    "* Regularization strength\n",
    "* Momentum\n",
    "* ..."
   ]
  },
  {
   "cell_type": "markdown",
   "metadata": {},
   "source": [
    "## 2.1 Start debugging your own network!"
   ]
  },
  {
   "cell_type": "markdown",
   "metadata": {},
   "source": [
    "As already suggested in the lectures, you may always want to start from small and simple architectures, to make sure you are going the right way. \n",
    "\n",
    "First you may need to overfit a single training sample, then a few batches of training samples, then go deeper with larger neural networks and the whole training data.\n",
    "\n",
    "Here we always provide a default neural network (i.e. ClassificationNet) with arbitrary number of layers, which is a generalization from a fixed 2-layer neural network in exercise 5. You are welcome to implement your own network, in that case just implement **MyOwnNetwork** in ```exercise_code/networks/classification_net.py```. You can also copy things from ClassficationNet and make a little adjustment to your own network. For either way, just pick a network and comment out the other one, then run the cells below for debugging.\n",
    "\n",
    "<div class=\"alert alert-warning\">\n",
    "    <h3>Note:</h3>\n",
    "    <p>Please, make sure you don't modify the ClassificationNet itself so that you can always have a working network to fall back on</p>\n",
    "    <p>In order to pass this submissions, you can <b>first stick to the default ClassificationNet implementation without changing any code at all</b>. The goal of this submission is to find reasonable hyperparameters and the parameter options of the ClassificationNet are broad enough.</p>\n",
    "    <p>Once you have surpassed the submission goal, you can try to implement additional activation functions in the accompanying notebook, try different weight initializations or other adjustments by writing your own network architecture in the MyOwnNetwork class.</p>\n",
    "</div>"
   ]
  },
  {
   "cell_type": "markdown",
   "metadata": {},
   "source": [
    "First, let's begin with a 2-layer neural network, and overfit one single training sample.\n",
    "\n",
    "After training, let's evaluate the training process by plotting the loss curves."
   ]
  },
  {
   "cell_type": "code",
   "execution_count": 13,
   "metadata": {},
   "outputs": [
    {
     "name": "stdout",
     "output_type": "stream",
     "text": [
      "(Epoch 1 / 20) train loss: 2.329665; val loss: 2.329686\n",
      "(Epoch 2 / 20) train loss: 2.329665; val loss: 2.218421\n",
      "(Epoch 3 / 20) train loss: 2.208132; val loss: 2.124796\n",
      "(Epoch 4 / 20) train loss: 2.077068; val loss: 2.042412\n",
      "(Epoch 5 / 20) train loss: 1.924361; val loss: 1.967994\n",
      "(Epoch 6 / 20) train loss: 1.765022; val loss: 1.895842\n",
      "(Epoch 7 / 20) train loss: 1.612363; val loss: 1.820199\n",
      "(Epoch 8 / 20) train loss: 1.469013; val loss: 1.738291\n",
      "(Epoch 9 / 20) train loss: 1.332236; val loss: 1.651062\n",
      "(Epoch 10 / 20) train loss: 1.201077; val loss: 1.561649\n",
      "(Epoch 11 / 20) train loss: 1.077230; val loss: 1.473489\n",
      "(Epoch 12 / 20) train loss: 0.962728; val loss: 1.389248\n",
      "(Epoch 13 / 20) train loss: 0.858562; val loss: 1.310558\n",
      "(Epoch 14 / 20) train loss: 0.764998; val loss: 1.238135\n",
      "(Epoch 15 / 20) train loss: 0.682204; val loss: 1.171934\n",
      "(Epoch 16 / 20) train loss: 0.609999; val loss: 1.111384\n",
      "(Epoch 17 / 20) train loss: 0.547494; val loss: 1.055693\n",
      "(Epoch 18 / 20) train loss: 0.493401; val loss: 1.004127\n",
      "(Epoch 19 / 20) train loss: 0.446571; val loss: 0.956126\n",
      "(Epoch 20 / 20) train loss: 0.406180; val loss: 0.911296\n"
     ]
    }
   ],
   "source": [
    "from exercise_code.solver import Solver\n",
    "from exercise_code.networks.optimizer import SGD, Adam\n",
    "from exercise_code.networks import MyOwnNetwork\n",
    "\n",
    "num_layer = 2\n",
    "epochs = 20\n",
    "reg = 0.1\n",
    "batch_size = 4\n",
    "\n",
    "model = ClassificationNet(num_layer=num_layer, reg=reg)\n",
    "# model = MyOwnNetwork()\n",
    "\n",
    "loss = CrossEntropyFromLogits()\n",
    "\n",
    "# Make a new data loader with a single training image\n",
    "overfit_dataset = ImageFolderDataset(\n",
    "    mode='train',\n",
    "    root=cifar_root, \n",
    "    download_url=download_url,\n",
    "    transform=compose_transform,\n",
    "    limit_files=1\n",
    ")\n",
    "dataloaders['train_overfit_single_image'] = DataLoader(\n",
    "    dataset=overfit_dataset,\n",
    "    batch_size=batch_size,\n",
    "    shuffle=True,\n",
    "    drop_last=False,\n",
    ")\n",
    "\n",
    "# Decrease validation data for only debugging\n",
    "debugging_validation_dataset = ImageFolderDataset(\n",
    "    mode='val',\n",
    "    root=cifar_root, \n",
    "    download_url=download_url,\n",
    "    transform=compose_transform,\n",
    "    limit_files=100\n",
    ")\n",
    "dataloaders['val_500files'] = DataLoader(\n",
    "    dataset=debugging_validation_dataset,\n",
    "    batch_size=batch_size,\n",
    "    shuffle=True,\n",
    "    drop_last=True,\n",
    ")\n",
    "\n",
    "solver = Solver(model, dataloaders['train_overfit_single_image'], dataloaders['val_500files'], \n",
    "                learning_rate=1e-3, loss_func=loss, optimizer=Adam)\n",
    "\n",
    "solver.train(epochs=epochs)"
   ]
  },
  {
   "cell_type": "code",
   "execution_count": 14,
   "metadata": {},
   "outputs": [
    {
     "data": {
      "image/png": "[encoded data removed]",
      "text/plain": [
       "<Figure size 432x288 with 1 Axes>"
      ]
     },
     "metadata": {
      "needs_background": "light"
     },
     "output_type": "display_data"
    }
   ],
   "source": [
    "plt.title('Loss curves')\n",
    "plt.plot(solver.train_loss_history, '-', label='train')\n",
    "plt.plot(solver.val_loss_history, '-', label='val')\n",
    "plt.legend(loc='lower right')\n",
    "plt.xlabel('Iteration')\n",
    "plt.show()"
   ]
  },
  {
   "cell_type": "code",
   "execution_count": 15,
   "metadata": {},
   "outputs": [
    {
     "name": "stdout",
     "output_type": "stream",
     "text": [
      "Training accuray: 1.00000\n",
      "Validation accuray: 1.00000\n"
     ]
    }
   ],
   "source": [
    "print(\"Training accuray: %.5f\" % (solver.get_dataset_accuracy(dataloaders['train_overfit_single_image'])))\n",
    "print(\"Validation accuray: %.5f\" % (solver.get_dataset_accuracy(dataloaders['val_500files'])))"
   ]
  },
  {
   "cell_type": "markdown",
   "metadata": {},
   "source": [
    "This time let's try to overfit to a small set of training batch samples. Please observe the difference from above. "
   ]
  },
  {
   "cell_type": "code",
   "execution_count": 17,
   "metadata": {},
   "outputs": [
    {
     "name": "stdout",
     "output_type": "stream",
     "text": [
      "(Epoch 1 / 100) train loss: 2.345098; val loss: 2.345114\n",
      "(Epoch 2 / 100) train loss: 2.239136; val loss: 2.050739\n",
      "(Epoch 3 / 100) train loss: 1.956295; val loss: 1.815699\n",
      "(Epoch 4 / 100) train loss: 1.636853; val loss: 1.617920\n",
      "(Epoch 5 / 100) train loss: 1.297722; val loss: 1.444800\n",
      "(Epoch 6 / 100) train loss: 0.970567; val loss: 1.296913\n",
      "(Epoch 7 / 100) train loss: 0.777283; val loss: 1.172386\n",
      "(Epoch 8 / 100) train loss: 0.611194; val loss: 1.030982\n",
      "(Epoch 9 / 100) train loss: 0.486858; val loss: 0.870554\n",
      "(Epoch 10 / 100) train loss: 0.400128; val loss: 0.731781\n",
      "(Epoch 11 / 100) train loss: 0.362181; val loss: 0.633440\n",
      "(Epoch 12 / 100) train loss: 0.322251; val loss: 0.586694\n",
      "(Epoch 13 / 100) train loss: 0.305196; val loss: 0.533946\n",
      "(Epoch 14 / 100) train loss: 0.285072; val loss: 0.505155\n",
      "(Epoch 15 / 100) train loss: 0.262642; val loss: 0.493653\n",
      "(Epoch 16 / 100) train loss: 0.252322; val loss: 0.500538\n",
      "(Epoch 17 / 100) train loss: 0.244250; val loss: 0.486614\n",
      "(Epoch 18 / 100) train loss: 0.235879; val loss: 0.450579\n",
      "(Epoch 19 / 100) train loss: 0.238146; val loss: 0.426231\n",
      "(Epoch 20 / 100) train loss: 0.231032; val loss: 0.429233\n",
      "(Epoch 21 / 100) train loss: 0.233397; val loss: 0.393398\n",
      "(Epoch 22 / 100) train loss: 0.224461; val loss: 0.371229\n",
      "(Epoch 23 / 100) train loss: 0.228763; val loss: 0.371396\n",
      "(Epoch 24 / 100) train loss: 0.225557; val loss: 0.379107\n",
      "(Epoch 25 / 100) train loss: 0.216022; val loss: 0.347324\n",
      "(Epoch 26 / 100) train loss: 0.228271; val loss: 0.336821\n",
      "(Epoch 27 / 100) train loss: 0.214642; val loss: 0.365353\n",
      "(Epoch 28 / 100) train loss: 0.215923; val loss: 0.389746\n",
      "(Epoch 29 / 100) train loss: 0.217004; val loss: 0.363055\n",
      "(Epoch 30 / 100) train loss: 0.211527; val loss: 0.318376\n",
      "(Epoch 31 / 100) train loss: 0.213974; val loss: 0.328132\n",
      "(Epoch 32 / 100) train loss: 0.207070; val loss: 0.351882\n",
      "(Epoch 33 / 100) train loss: 0.202139; val loss: 0.343625\n",
      "(Epoch 34 / 100) train loss: 0.196269; val loss: 0.324600\n",
      "(Epoch 35 / 100) train loss: 0.192690; val loss: 0.314042\n",
      "(Epoch 36 / 100) train loss: 0.191637; val loss: 0.322407\n",
      "(Epoch 37 / 100) train loss: 0.197924; val loss: 0.304850\n",
      "(Epoch 38 / 100) train loss: 0.190959; val loss: 0.277358\n",
      "(Epoch 39 / 100) train loss: 0.192545; val loss: 0.282526\n",
      "(Epoch 40 / 100) train loss: 0.187077; val loss: 0.303599\n",
      "(Epoch 41 / 100) train loss: 0.182339; val loss: 0.318094\n",
      "(Epoch 42 / 100) train loss: 0.180444; val loss: 0.293284\n",
      "(Epoch 43 / 100) train loss: 0.177110; val loss: 0.268723\n",
      "(Epoch 44 / 100) train loss: 0.172838; val loss: 0.263633\n",
      "(Epoch 45 / 100) train loss: 0.177271; val loss: 0.263643\n",
      "(Epoch 46 / 100) train loss: 0.170679; val loss: 0.271541\n",
      "(Epoch 47 / 100) train loss: 0.169984; val loss: 0.296335\n",
      "(Epoch 48 / 100) train loss: 0.168478; val loss: 0.297528\n",
      "(Epoch 49 / 100) train loss: 0.170359; val loss: 0.266935\n",
      "(Epoch 50 / 100) train loss: 0.162422; val loss: 0.257482\n",
      "(Epoch 51 / 100) train loss: 0.165103; val loss: 0.252230\n",
      "(Epoch 52 / 100) train loss: 0.159550; val loss: 0.273252\n",
      "(Epoch 53 / 100) train loss: 0.157667; val loss: 0.281973\n",
      "(Epoch 54 / 100) train loss: 0.162946; val loss: 0.273902\n",
      "(Epoch 55 / 100) train loss: 0.157546; val loss: 0.252530\n",
      "(Epoch 56 / 100) train loss: 0.157992; val loss: 0.239036\n",
      "(Epoch 57 / 100) train loss: 0.151831; val loss: 0.247752\n",
      "(Epoch 58 / 100) train loss: 0.159123; val loss: 0.260659\n",
      "(Epoch 59 / 100) train loss: 0.153953; val loss: 0.253151\n",
      "(Epoch 60 / 100) train loss: 0.152729; val loss: 0.245642\n",
      "(Epoch 61 / 100) train loss: 0.146623; val loss: 0.243214\n",
      "(Epoch 62 / 100) train loss: 0.148988; val loss: 0.226776\n",
      "(Epoch 63 / 100) train loss: 0.148288; val loss: 0.232929\n",
      "(Epoch 64 / 100) train loss: 0.144632; val loss: 0.223221\n",
      "(Epoch 65 / 100) train loss: 0.149344; val loss: 0.230236\n",
      "(Epoch 66 / 100) train loss: 0.144242; val loss: 0.226281\n",
      "(Epoch 67 / 100) train loss: 0.144158; val loss: 0.240031\n",
      "(Epoch 68 / 100) train loss: 0.140281; val loss: 0.221091\n",
      "(Epoch 69 / 100) train loss: 0.140776; val loss: 0.212745\n",
      "(Epoch 70 / 100) train loss: 0.139623; val loss: 0.216764\n",
      "(Epoch 71 / 100) train loss: 0.136266; val loss: 0.219571\n",
      "(Epoch 72 / 100) train loss: 0.134323; val loss: 0.217287\n",
      "(Epoch 73 / 100) train loss: 0.138687; val loss: 0.216712\n",
      "(Epoch 74 / 100) train loss: 0.135197; val loss: 0.215690\n",
      "(Epoch 75 / 100) train loss: 0.132336; val loss: 0.205072\n",
      "(Epoch 76 / 100) train loss: 0.130306; val loss: 0.196481\n",
      "(Epoch 77 / 100) train loss: 0.133076; val loss: 0.192790\n",
      "(Epoch 78 / 100) train loss: 0.132534; val loss: 0.187859\n",
      "(Epoch 79 / 100) train loss: 0.127584; val loss: 0.183408\n",
      "(Epoch 80 / 100) train loss: 0.134973; val loss: 0.193202\n",
      "(Epoch 81 / 100) train loss: 0.130922; val loss: 0.233602\n",
      "(Epoch 82 / 100) train loss: 0.142798; val loss: 0.208454\n",
      "(Epoch 83 / 100) train loss: 0.132978; val loss: 0.186360\n",
      "(Epoch 84 / 100) train loss: 0.149081; val loss: 0.192186\n",
      "(Epoch 85 / 100) train loss: 0.141762; val loss: 0.186327\n",
      "(Epoch 86 / 100) train loss: 0.128173; val loss: 0.225889\n",
      "(Epoch 87 / 100) train loss: 0.132168; val loss: 0.207927\n",
      "(Epoch 88 / 100) train loss: 0.123922; val loss: 0.175463\n",
      "(Epoch 89 / 100) train loss: 0.125267; val loss: 0.167094\n",
      "(Epoch 90 / 100) train loss: 0.134907; val loss: 0.168973\n",
      "(Epoch 91 / 100) train loss: 0.118616; val loss: 0.200959\n",
      "(Epoch 92 / 100) train loss: 0.137563; val loss: 0.190384\n",
      "(Epoch 93 / 100) train loss: 0.136926; val loss: 0.176880\n",
      "(Epoch 94 / 100) train loss: 0.141471; val loss: 0.176897\n",
      "(Epoch 95 / 100) train loss: 0.133467; val loss: 0.209402\n",
      "(Epoch 96 / 100) train loss: 0.129620; val loss: 0.253857\n",
      "(Epoch 97 / 100) train loss: 0.134249; val loss: 0.199479\n",
      "(Epoch 98 / 100) train loss: 0.118690; val loss: 0.158710\n",
      "(Epoch 99 / 100) train loss: 0.131503; val loss: 0.160528\n",
      "(Epoch 100 / 100) train loss: 0.117676; val loss: 0.164589\n"
     ]
    }
   ],
   "source": [
    "from exercise_code.networks import MyOwnNetwork\n",
    "\n",
    "num_layer = 2\n",
    "epochs = 100\n",
    "reg = 0.1\n",
    "num_samples = 10\n",
    "\n",
    "model = ClassificationNet(num_layer=num_layer, reg=reg)\n",
    "# model = MyOwnNetwork()\n",
    "\n",
    "loss = CrossEntropyFromLogits()\n",
    "\n",
    "# Make a new data loader with a our num_samples training image\n",
    "overfit_dataset = ImageFolderDataset(\n",
    "    mode='train',\n",
    "    root=cifar_root, \n",
    "    download_url=download_url,\n",
    "    transform=compose_transform,\n",
    "    limit_files=num_samples\n",
    ")\n",
    "dataloaders['train_overfit_10samples'] = DataLoader(\n",
    "    dataset=overfit_dataset,\n",
    "    batch_size=batch_size,\n",
    "    shuffle=True,\n",
    "    drop_last=False,\n",
    ")\n",
    "\n",
    "solver = Solver(model, dataloaders['train_overfit_10samples'], dataloaders['val_500files'], \n",
    "                learning_rate=1e-3, loss_func=loss, optimizer=Adam)\n",
    "\n",
    "solver.train(epochs=epochs)"
   ]
  },
  {
   "cell_type": "code",
   "execution_count": 18,
   "metadata": {},
   "outputs": [
    {
     "data": {
      "image/png": "[encoded data removed]",
      "text/plain": [
       "<Figure size 432x288 with 1 Axes>"
      ]
     },
     "metadata": {
      "needs_background": "light"
     },
     "output_type": "display_data"
    }
   ],
   "source": [
    "plt.title('Loss curves')\n",
    "plt.plot(solver.train_loss_history, '-', label='train')\n",
    "plt.plot(solver.val_loss_history, '-', label='val')\n",
    "plt.legend(loc='lower right')\n",
    "plt.xlabel('Iteration')\n",
    "plt.show()"
   ]
  },
  {
   "cell_type": "code",
   "execution_count": 19,
   "metadata": {},
   "outputs": [
    {
     "name": "stdout",
     "output_type": "stream",
     "text": [
      "Training accuray: 1.00000\n",
      "Validation accuray: 1.00000\n"
     ]
    }
   ],
   "source": [
    "print(\"Training accuray: %.5f\" % (solver.get_dataset_accuracy(dataloaders['train_overfit_10samples'])))\n",
    "print(\"Validation accuray: %.5f\" % (solver.get_dataset_accuracy(dataloaders['val_500files'])))"
   ]
  },
  {
   "cell_type": "markdown",
   "metadata": {},
   "source": [
    "If you're overfitting the training data, that means the network's implementation is correct. However, as you have more samples to overfit, your accuracy will be way lower. You can increase the number of epochs above to achieve better results.\n",
    "\n",
    "Now let's try to feed all the training and validation data into the network, but this time we set the same hyperparameters for 2-layer and 5-layer networks, and compare the different behaviors.\n",
    "\n",
    "<div class=\"alert alert-warning\">\n",
    "    <h3>Note:</h3>\n",
    "    <p>This may take about 1 min for each epoch as the training set is quite large. For convenience, we only train on 1000 images for now but use the full validation set.</p>\n",
    "</div>"
   ]
  },
  {
   "cell_type": "code",
   "execution_count": 20,
   "metadata": {},
   "outputs": [
    {
     "name": "stdout",
     "output_type": "stream",
     "text": [
      "(Epoch 1 / 5) train loss: 2.301978; val loss: 2.301982\n",
      "(Epoch 2 / 5) train loss: 0.256080; val loss: 0.049515\n",
      "(Epoch 3 / 5) train loss: 0.055481; val loss: 0.034922\n",
      "(Epoch 4 / 5) train loss: 0.045906; val loss: 0.027491\n",
      "(Epoch 5 / 5) train loss: 0.033551; val loss: 0.025091\n"
     ]
    }
   ],
   "source": [
    "from exercise_code.networks import MyOwnNetwork\n",
    "\n",
    "num_layer = 2\n",
    "epochs = 5\n",
    "reg = 0.01\n",
    "\n",
    "# Make a new data loader with 1000 training samples\n",
    "num_samples = 1000\n",
    "overfit_dataset = ImageFolderDataset(\n",
    "    mode='train',\n",
    "    root=cifar_root, \n",
    "    download_url=download_url,\n",
    "    transform=compose_transform,\n",
    "    limit_files=num_samples\n",
    ")\n",
    "dataloaders['train_small'] = DataLoader(\n",
    "    dataset=overfit_dataset,\n",
    "    batch_size=batch_size,\n",
    "    shuffle=True,\n",
    "    drop_last=False,\n",
    ")\n",
    "\n",
    "\n",
    "# Change here if you want to use the full training set\n",
    "use_full_training_set = False\n",
    "if not use_full_training_set:\n",
    "    train_loader = dataloaders['train_small']\n",
    "else:\n",
    "    train_loader = dataloaders['train']\n",
    "    \n",
    "\n",
    "model = ClassificationNet(num_layer=num_layer, reg=reg)\n",
    "# model = MyOwnNetwork()\n",
    "\n",
    "loss = CrossEntropyFromLogits()\n",
    "\n",
    "solver = Solver(model, train_loader, dataloaders['val'], \n",
    "                learning_rate=1e-3, loss_func=loss, optimizer=Adam)\n",
    "\n",
    "solver.train(epochs=epochs)"
   ]
  },
  {
   "cell_type": "code",
   "execution_count": 21,
   "metadata": {},
   "outputs": [
    {
     "data": {
      "image/png": "[encoded data removed]",
      "text/plain": [
       "<Figure size 432x288 with 1 Axes>"
      ]
     },
     "metadata": {
      "needs_background": "light"
     },
     "output_type": "display_data"
    }
   ],
   "source": [
    "plt.title('Loss curves')\n",
    "plt.plot(solver.train_loss_history, '-', label='train')\n",
    "plt.plot(solver.val_loss_history, '-', label='val')\n",
    "plt.legend(loc='lower right')\n",
    "plt.xlabel('Iteration')\n",
    "plt.show()"
   ]
  },
  {
   "cell_type": "code",
   "execution_count": 22,
   "metadata": {},
   "outputs": [
    {
     "name": "stdout",
     "output_type": "stream",
     "text": [
      "Training accuray: 1.00000\n",
      "Validation accuray: 1.00000\n"
     ]
    }
   ],
   "source": [
    "print(\"Training accuray: %.5f\" % (solver.get_dataset_accuracy(train_loader)))\n",
    "print(\"Validation accuray: %.5f\" % (solver.get_dataset_accuracy(dataloaders['val'])))"
   ]
  },
  {
   "cell_type": "code",
   "execution_count": 23,
   "metadata": {},
   "outputs": [
    {
     "name": "stdout",
     "output_type": "stream",
     "text": [
      "(Epoch 1 / 5) train loss: 2.300925; val loss: 2.300925\n",
      "(Epoch 2 / 5) train loss: 0.181502; val loss: 0.043787\n",
      "(Epoch 3 / 5) train loss: 0.037243; val loss: 0.032100\n",
      "(Epoch 4 / 5) train loss: 0.028301; val loss: 0.024962\n",
      "(Epoch 5 / 5) train loss: 0.022565; val loss: 0.020559\n"
     ]
    }
   ],
   "source": [
    "from exercise_code.networks import MyOwnNetwork\n",
    "\n",
    "num_layer = 5\n",
    "epochs = 5\n",
    "reg = 0.01\n",
    "\n",
    "model = ClassificationNet(num_layer=num_layer, reg=reg)\n",
    "# model = MyOwnNetwork()\n",
    "\n",
    "# Change here if you want to use the full training set\n",
    "use_full_training_set = False\n",
    "if not use_full_training_set:\n",
    "    train_loader = dataloaders['train_small']\n",
    "else:\n",
    "    train_loader = dataloaders['train']\n",
    "\n",
    "loss = CrossEntropyFromLogits()\n",
    "\n",
    "solver = Solver(model, train_loader, dataloaders['val'], \n",
    "                learning_rate=1e-3, loss_func=loss, optimizer=Adam)\n",
    "\n",
    "solver.train(epochs=epochs)"
   ]
  },
  {
   "cell_type": "code",
   "execution_count": 24,
   "metadata": {},
   "outputs": [
    {
     "data": {
      "image/png": "[encoded data removed]",
      "text/plain": [
       "<Figure size 432x288 with 1 Axes>"
      ]
     },
     "metadata": {
      "needs_background": "light"
     },
     "output_type": "display_data"
    }
   ],
   "source": [
    "plt.title('Loss curves')\n",
    "plt.plot(solver.train_loss_history, '-', label='train')\n",
    "plt.plot(solver.val_loss_history, '-', label='val')\n",
    "plt.legend(loc='lower right')\n",
    "plt.xlabel('Iteration')\n",
    "plt.show()"
   ]
  },
  {
   "cell_type": "code",
   "execution_count": 25,
   "metadata": {},
   "outputs": [
    {
     "name": "stdout",
     "output_type": "stream",
     "text": [
      "Training accuray: 1.00000\n",
      "Validation accuray: 1.00000\n"
     ]
    }
   ],
   "source": [
    "print(\"Training accuray: %.5f\" % (solver.get_dataset_accuracy(train_loader)))\n",
    "print(\"Validation accuray: %.5f\" % (solver.get_dataset_accuracy(dataloaders['val'])))"
   ]
  },
  {
   "cell_type": "markdown",
   "metadata": {},
   "source": [
    "As you can see from above, the same hyperparameter set can decrease the loss for a 2-layer network, but for 5-layer network, it hardly works.\n",
    "\n",
    "The steps above are already mentioned in the lectures as debugging steps before training a neural network. \n",
    "\n",
    "If you implement your own network, make sure you do the steps above before tuning the hyperparameters as below. "
   ]
  },
  {
   "cell_type": "markdown",
   "metadata": {},
   "source": [
    "## 2.2 Difficulty in tuning hyperparameters\n",
    "As can be seen through the results of training a larger network, training with whole data doesn't fit the training data as well as training with small number of training data. Besides, the architecture of neural network makes a difference, too. Small decisions on hyperparameters count. \n",
    "\n",
    "Usually, but not always, hyperparameters cannot be learned using well known gradient based methods (such as gradient descent), which are commonly employed to learn parameters. Besides, some hyperparameters can affect the structure of the model and the loss function.\n",
    "\n",
    "As mentioned before, hyperparameters need to be set before training. Tuning hyperparameters is hard, because you always have to try different combinations of the hyperparameters, train the network, do the validation and pick the best one. Besides, it is not guaranteed that you'll find the best combination.\n",
    "\n",
    "Next you will do hands on learning with hyperparameter tuning methods that are covered in lectures."
   ]
  },
  {
   "cell_type": "markdown",
   "metadata": {},
   "source": [
    "# 3. Hyperparameter Tuning\n",
    "\n",
    "![alt text](https://blog.floydhub.com/content/images/2018/08/Screen-Shot-2018-08-22-at-17.59.25.png \"\")\n",
    "\n",
    "One of the main challenges in deep learning is finding the set of hyperparameters that performs best.\n",
    "\n",
    "So far, we have followed a manual approach by guessing hyperparameters, running the model, observing the result and maybe tweaking the hyperparameters based on this result. As you have probably noticed, this manual hyperparameter tuning is unstructured, inefficient and can become very tedious.\n",
    "\n",
    "\n",
    "A more systematic (and actually very simple) approach for hyperparameter tuning that you've already learned in the lecture  is implementing a **Grid Search**. \n",
    "\n",
    "\n",
    "\n",
    "## 3.1 Grid Search\n",
    "Grid search is a simple and naive, yet effective method to automate the hyperparameter tuning:\n",
    "\n",
    "* First, you define the set of parameters you want to tune, e.g. $\\{learning\\_rate, regularization\\_strength\\}$.\n",
    "\n",
    "* For each hyperparameter, you then define a set of possible values, e.g. $learning\\_rate = \\{0.0001, 0.001, 0.01, 0.1\\}$.\n",
    "\n",
    "* Then, you train a model for every possible combination of these hyperparameter values and afterwards select the combination that works best (e.g. in terms of accuracy on your validation set).\n",
    "\n",
    "<div class=\"alert alert-success\">\n",
    "    <h3>Task: Check Code</h3>\n",
    "    <p>Check out our <code>grid_search</code> implementation in <code>../exercise_6/exercise_code/hyperparameter_tuning.py</code>. We show a simple for loop implementation and a more sophisticated one for multiple inputs. </p>\n",
    "</div>\n",
    " \n",
    " <div class=\"alert alert-warning\">\n",
    "    <h3>Note:</h3>\n",
    "    <p>To keep things simple for the beginning, it'll be enough to just focus on the hyperparameters <code>learning_rate</code> and <code>regularization_strength</code> here, as in the example above.</p>\n",
    "</div>"
   ]
  },
  {
   "cell_type": "code",
   "execution_count": 26,
   "metadata": {},
   "outputs": [
    {
     "name": "stdout",
     "output_type": "stream",
     "text": [
      "\n",
      "Evaluating Config #1 [of 3]:\n",
      " {'learning_rate': 0.01, 'reg': 0.0001}\n",
      "(Epoch 1 / 10) train loss: 2.308564; val loss: 2.308539\n",
      "(Epoch 2 / 10) train loss: 0.055922; val loss: 0.008687\n",
      "(Epoch 3 / 10) train loss: 0.003678; val loss: 0.001622\n",
      "(Epoch 4 / 10) train loss: 0.001211; val loss: 0.000980\n",
      "(Epoch 5 / 10) train loss: 0.082327; val loss: 0.043914\n",
      "(Epoch 6 / 10) train loss: 0.014259; val loss: 0.003299\n",
      "(Epoch 7 / 10) train loss: 0.001640; val loss: 0.000826\n",
      "(Epoch 8 / 10) train loss: 0.000605; val loss: 0.000469\n",
      "(Epoch 9 / 10) train loss: 0.019872; val loss: 0.518986\n",
      "(Epoch 10 / 10) train loss: 0.052943; val loss: 0.002662\n",
      "\n",
      "Evaluating Config #2 [of 3]:\n",
      " {'learning_rate': 0.001, 'reg': 0.0001}\n",
      "(Epoch 1 / 10) train loss: 2.305919; val loss: 2.305912\n",
      "(Epoch 2 / 10) train loss: 0.215033; val loss: 0.016583\n",
      "(Epoch 3 / 10) train loss: 0.009758; val loss: 0.007359\n",
      "(Epoch 4 / 10) train loss: 0.005435; val loss: 0.004940\n",
      "(Epoch 5 / 10) train loss: 0.003889; val loss: 0.003681\n",
      "(Epoch 6 / 10) train loss: 0.002980; val loss: 0.002864\n",
      "(Epoch 7 / 10) train loss: 0.002370; val loss: 0.002288\n",
      "(Epoch 8 / 10) train loss: 0.001938; val loss: 0.001877\n",
      "(Epoch 9 / 10) train loss: 0.001628; val loss: 0.001556\n",
      "(Epoch 10 / 10) train loss: 0.001411; val loss: 0.001369\n",
      "\n",
      "Evaluating Config #3 [of 3]:\n",
      " {'learning_rate': 0.0001, 'reg': 0.0001}\n",
      "(Epoch 1 / 10) train loss: 2.306650; val loss: 2.306668\n",
      "(Epoch 2 / 10) train loss: 1.214009; val loss: 0.504157\n",
      "(Epoch 3 / 10) train loss: 0.350237; val loss: 0.197268\n",
      "(Epoch 4 / 10) train loss: 0.153361; val loss: 0.094461\n",
      "(Epoch 5 / 10) train loss: 0.079201; val loss: 0.057822\n",
      "(Epoch 6 / 10) train loss: 0.047693; val loss: 0.040092\n",
      "(Epoch 7 / 10) train loss: 0.031524; val loss: 0.029768\n",
      "(Epoch 8 / 10) train loss: 0.022325; val loss: 0.022344\n",
      "(Epoch 9 / 10) train loss: 0.016650; val loss: 0.017446\n",
      "(Epoch 10 / 10) train loss: 0.012990; val loss: 0.015183\n",
      "\n",
      "Search done. Best Val Loss = 0.00046934415192932357\n",
      "Best Config: {'learning_rate': 0.01, 'reg': 0.0001}\n"
     ]
    }
   ],
   "source": [
    "from exercise_code.networks import MyOwnNetwork\n",
    "\n",
    "# Specify the used network\n",
    "model_class = ClassificationNet\n",
    "\n",
    "from exercise_code import hyperparameter_tuning\n",
    "best_model, results = hyperparameter_tuning.grid_search(\n",
    "    dataloaders['train_small'], dataloaders['val_500files'],\n",
    "    grid_search_spaces = {\n",
    "        \"learning_rate\": [1e-2, 1e-3, 1e-4], \n",
    "        \"reg\": [1e-4]\n",
    "    },\n",
    "    model_class=model_class,\n",
    "    epochs=10, patience=5)"
   ]
  },
  {
   "cell_type": "markdown",
   "metadata": {},
   "source": [
    "From the results of your grid search, you might already have found some hyperparameter combinations that work better than others. A common practice is to now repeat the grid search on a more narrow domain centered around the parameters that worked best. \n",
    "\n",
    "**Conclusion Grid Search**\n",
    "\n",
    "With grid search we now have automated the hyperparameter tuning to a certain degree. Another advantage is, that since the training of all models are independent of each other, you can parallelize the grid search, i.e.,  try out different hyperparameter configurations in parallel on different machines.\n",
    "\n",
    "However, as you have probably noticed, there is one big problem with this approach: the number of possible combinations to try out grows exponentially with the number of hyperparameters (\"curse of dimensionality\"). As we add more hyperparameters to the grid search, the search space will explode in time complexity, making this strategy unfeasible."
   ]
  },
  {
   "cell_type": "markdown",
   "metadata": {},
   "source": [
    "Especially when your search space contains more than 3 or 4 dimensions, it is often better to use another, similar hyperparameter tuning method that you've already learned about: random search."
   ]
  },
  {
   "cell_type": "markdown",
   "metadata": {},
   "source": [
    "## 3.2 Random Search\n",
    "Random search is very similar to grid search, with the only difference, that instead of providing specific values for every hyperparameter, you only define a range for each hyperparameter - then, the values are sampled randomly from the provided ranges.\n",
    "\n",
    "![alt text](https://i.stack.imgur.com/cIDuR.png \"\")\n",
    "\n",
    "The figure above illustrates the difference in the hyperparameter space exploration between grid search and random search: assume you have 2 hyperparameters with each 3 values. Running a grid search results in training $3^2=9$ different models - but in the end, you've just tired out 3 values for each parameter. For random search on the other hand, after training 9 models you'll have tried out 9 different values for each hyperparameter, which often leads much faster to good results.\n",
    "\n",
    "To get a deeper understanding of random search and why it is more efficient than grid search, you should definitely check out this paper: http://www.jmlr.org/papers/volume13/bergstra12a/bergstra12a.pdf\n",
    "\n",
    "<div class=\"alert alert-success\">\n",
    "    <h3>Task: Check Code</h3>\n",
    "    <p>Check out our <code>random_search</code> implementation in <code>../exercise_6/exercise_code/hyperparameter_tuning.py</code></p>\n",
    "</div>\n",
    "\n",
    "\n",
    "*Hint: regarding the sample space of each parameter, think about the scale for which it makes most sense to sample in. For example the learning rate is usually sampled on a logarithmic scale!*\n",
    "\n",
    "*For simplicity and speed, just use the `train_batches`-dataloader!*"
   ]
  },
  {
   "cell_type": "code",
   "execution_count": 27,
   "metadata": {},
   "outputs": [
    {
     "name": "stdout",
     "output_type": "stream",
     "text": [
      "\n",
      "Evaluating Config #1 [of 1]:\n",
      " {'learning_rate': 0.000496172053417592, 'reg': 1.2605217318935825e-07, 'loss_func': <exercise_code.networks.loss.CrossEntropyFromLogits object at 0x00000277A340A5C8>}\n",
      "(Epoch 1 / 20) train loss: 2.294176; val loss: 2.294167\n",
      "(Epoch 2 / 20) train loss: 0.392672; val loss: 0.042952\n",
      "(Epoch 3 / 20) train loss: 0.022269; val loss: 0.014602\n",
      "(Epoch 4 / 20) train loss: 0.008340; val loss: 0.007124\n",
      "(Epoch 5 / 20) train loss: 0.004616; val loss: 0.004446\n",
      "(Epoch 6 / 20) train loss: 0.002906; val loss: 0.003152\n",
      "(Epoch 7 / 20) train loss: 0.002057; val loss: 0.002459\n",
      "(Epoch 8 / 20) train loss: 0.001496; val loss: 0.002027\n",
      "(Epoch 9 / 20) train loss: 0.001133; val loss: 0.001744\n",
      "(Epoch 10 / 20) train loss: 0.000881; val loss: 0.001385\n",
      "(Epoch 11 / 20) train loss: 0.000712; val loss: 0.001123\n",
      "(Epoch 12 / 20) train loss: 0.000577; val loss: 0.000991\n",
      "(Epoch 13 / 20) train loss: 0.000474; val loss: 0.000865\n",
      "(Epoch 14 / 20) train loss: 0.000397; val loss: 0.000733\n",
      "(Epoch 15 / 20) train loss: 0.000332; val loss: 0.000691\n",
      "(Epoch 16 / 20) train loss: 0.000282; val loss: 0.000580\n",
      "(Epoch 17 / 20) train loss: 0.000241; val loss: 0.000521\n",
      "(Epoch 18 / 20) train loss: 0.000208; val loss: 0.000442\n",
      "(Epoch 19 / 20) train loss: 0.000178; val loss: 0.000405\n",
      "(Epoch 20 / 20) train loss: 0.000154; val loss: 0.000376\n",
      "\n",
      "Search done. Best Val Loss = 0.0003755761400251568\n",
      "Best Config: {'learning_rate': 0.000496172053417592, 'reg': 1.2605217318935825e-07, 'loss_func': <exercise_code.networks.loss.CrossEntropyFromLogits object at 0x00000277A340A5C8>}\n"
     ]
    }
   ],
   "source": [
    "from exercise_code.hyperparameter_tuning import random_search\n",
    "from exercise_code.networks import MyOwnNetwork\n",
    "\n",
    "# Specify the used network\n",
    "model_class = ClassificationNet\n",
    "\n",
    "best_model, results = random_search(\n",
    "    dataloaders['train_small'], dataloaders['val_500files'],\n",
    "    random_search_spaces = {\n",
    "        \"learning_rate\": ([1e-2, 1e-6], 'log'),\n",
    "        \"reg\": ([1e-3, 1e-7], \"log\"),\n",
    "        \"loss_func\": ([CrossEntropyFromLogits()], \"item\")\n",
    "    },\n",
    "    model_class=model_class,\n",
    "    num_search = 1, epochs=20, patience=5)"
   ]
  },
  {
   "cell_type": "markdown",
   "metadata": {},
   "source": [
    "It's time to run it with the whole dataset, and let it search for a few hours for a nice configuration. \n",
    "\n",
    "However, to save some time, let's first implement an **early-stopping** mechanism, that you also already know from the lecture."
   ]
  },
  {
   "cell_type": "markdown",
   "metadata": {},
   "source": [
    "## 3.3 Early Stopping"
   ]
  },
  {
   "cell_type": "markdown",
   "metadata": {},
   "source": [
    "By now you've already seen a lot of training curves:\n",
    "\n",
    "<img src=http://fouryears.eu/wp-content/uploads/2017/12/early_stopping.png></img>\n",
    "\n",
    "Usually, at some point the validation loss goes up again, which is a sign that we're overfitting to our training data. Since it actually doesn't make any sense to train further at this point, it's common practice to apply \"early stopping\", i.e., cancel the training process when the validation loss doesn't improve anymore. The nice thing about this concept is, that not only it improves generalization through the prevention of overfitting, but also it saves us a lot of time - one of our most valuable resources in deep learning.\n",
    "\n",
    "Since there are natural fluctuations in the validation loss, you usually don't cancel the training process right at the first epoch when the validation-loss increases, but instead, you wait for some epochs (specified by the `patience`-parameter) and if the loss still doesn't improve, we stop.\n",
    "\n",
    "<div class=\"alert alert-success\">\n",
    "    <h3>Task: Check Code</h3>\n",
    "    <p>Please check the implementation of the early stopping mechanism in <code>../exercise_6/exercise_code/solver.py</code>.\n",
    " </p>\n",
    "</div>"
   ]
  },
  {
   "cell_type": "markdown",
   "metadata": {},
   "source": [
    "## 3.4 Let's find the perfect model!"
   ]
  },
  {
   "cell_type": "markdown",
   "metadata": {},
   "source": [
    "You've now set everything up to start training your model and finding a nice set of hyper parameters using a combination of grid or random search!\n",
    "\n",
    "Since we'll now be training with a much larger number of samples, you should be aware that this process will definitely take some time! So be prepared to let your machine run for a while. \n",
    "\n",
    "At the beginning, it's a good approach to first do a coarse random search across a wide range of values to find promising sub-ranges of your parameter space. Afterwards, you can zoom in to these ranges and do another random search (or grid search) to finetune the configuration.\n",
    "\n",
    "You don't have to use the whole dataset at the beginning, instead you can also use a medium large subset of the samples. Also, you don't need to train for a large number of epochs - as mentioned above: we first want to get an overview about our hyper parameters.\n",
    "\n",
    "<div class=\"alert alert-info\">\n",
    "    <h3>Task: Hyperparameters Tunning & Model Training </h3>\n",
    "        <p> Now, it is your turn to do the hyperparamater tuning. In the cell below, you can use the <code>random_search</code> function to find a good choice of parameters. Put in some reasonable ranges for the hyperparameters and evaluate them.\n",
    "    <p> <b>Note:</b> At the beginning, it's a good approach to first do a coarse random search across a <b> wide range of values</b> to find promising sub-ranges of your parameter space and use <b> a medium large subset of the dataset </b>instead the whole as well. Afterwards, you can zoom in to these ranges and do another random search (or grid search) to finetune the configuration. Use the cell below to play around and find good hyperparameters for your model!</p>\n",
    "        <p> Finally, once you've found some promising hyperparameters (or narrowed them down to promising subranges), it's time to utilize these hyperparameters to train your network on the whole dataset for a large number of epochs so that your own model can reach an acceptable performance. \n",
    "        <p> <b>Hint:</b> You may use a <code>Solver</code> class we provided before or directly use the <code>random_search</code> function (as you can also monitor the loss here) for model training.\n",
    "</div>"
   ]
  },
  {
   "cell_type": "code",
   "execution_count": 17,
   "metadata": {},
   "outputs": [
    {
     "name": "stdout",
     "output_type": "stream",
     "text": [
      "\n",
      "Evaluating Config #1 [of 5]:\n",
      " {'learning_rate': 0.00016739875313292373, 'reg': 1.1340557249113257e-06, 'loss_func': <exercise_code.networks.loss.CrossEntropyFromLogits object at 0x000001ECAE7DE588>, 'hidden_size': 147, 'num_layer': 4, 'activation': <exercise_code.networks.layer.LeakyRelu object at 0x000001ECAE7DE548>, 'optimizer': <class 'exercise_code.networks.optimizer.Adam'>, 'std': 7.282179586423366e-05}\n",
      "(Epoch 1 / 20) train loss: 2.302585; val loss: 2.302585\n",
      "(Epoch 2 / 20) train loss: 2.298747; val loss: 2.294020\n",
      "(Epoch 3 / 20) train loss: 2.287492; val loss: 2.278726\n",
      "(Epoch 4 / 20) train loss: 2.266930; val loss: 2.251890\n",
      "(Epoch 5 / 20) train loss: 2.232691; val loss: 2.206915\n",
      "(Epoch 6 / 20) train loss: 1.689874; val loss: 0.342036\n",
      "(Epoch 7 / 20) train loss: 0.116734; val loss: 0.055149\n",
      "(Epoch 8 / 20) train loss: 0.041454; val loss: 0.034972\n",
      "(Epoch 9 / 20) train loss: 0.037339; val loss: 0.030870\n",
      "(Epoch 10 / 20) train loss: 0.024362; val loss: 0.024703\n",
      "(Epoch 11 / 20) train loss: 0.005186; val loss: 0.021500\n",
      "(Epoch 12 / 20) train loss: 0.000905; val loss: 0.019436\n",
      "(Epoch 13 / 20) train loss: 0.000562; val loss: 0.018612\n",
      "(Epoch 14 / 20) train loss: 0.000330; val loss: 0.018212\n",
      "(Epoch 15 / 20) train loss: 0.000261; val loss: 0.017913\n",
      "(Epoch 16 / 20) train loss: 0.000220; val loss: 0.017642\n",
      "(Epoch 17 / 20) train loss: 0.000189; val loss: 0.017495\n",
      "(Epoch 18 / 20) train loss: 0.000166; val loss: 0.017306\n",
      "(Epoch 19 / 20) train loss: 0.000156; val loss: 0.017019\n",
      "(Epoch 20 / 20) train loss: 0.000133; val loss: 0.016869\n",
      "\n",
      "Evaluating Config #2 [of 5]:\n",
      " {'learning_rate': 0.00019250516435774515, 'reg': 1.329409816255346e-06, 'loss_func': <exercise_code.networks.loss.CrossEntropyFromLogits object at 0x000001ECAE7DE588>, 'hidden_size': 143, 'num_layer': 2, 'activation': <exercise_code.networks.layer.LeakyRelu object at 0x000001ECAE7DE548>, 'optimizer': <class 'exercise_code.networks.optimizer.Adam'>, 'std': 5.991066132110613e-06}\n",
      "(Epoch 1 / 20) train loss: 2.302585; val loss: 2.302585\n",
      "(Epoch 2 / 20) train loss: 1.997080; val loss: 1.181789\n",
      "(Epoch 3 / 20) train loss: 0.589749; val loss: 0.327840\n",
      "(Epoch 4 / 20) train loss: 0.179955; val loss: 0.205166\n",
      "(Epoch 5 / 20) train loss: 0.100897; val loss: 0.147904\n",
      "(Epoch 6 / 20) train loss: 0.059420; val loss: 0.118151\n",
      "(Epoch 7 / 20) train loss: 0.041122; val loss: 0.103924\n",
      "(Epoch 8 / 20) train loss: 0.034742; val loss: 0.095783\n",
      "(Epoch 9 / 20) train loss: 0.031880; val loss: 0.088334\n",
      "(Epoch 10 / 20) train loss: 0.029673; val loss: 0.082751\n",
      "(Epoch 11 / 20) train loss: 0.028382; val loss: 0.078272\n",
      "(Epoch 12 / 20) train loss: 0.027488; val loss: 0.074680\n",
      "(Epoch 13 / 20) train loss: 0.026757; val loss: 0.071397\n",
      "(Epoch 14 / 20) train loss: 0.026235; val loss: 0.069127\n",
      "(Epoch 15 / 20) train loss: 0.025819; val loss: 0.066597\n",
      "(Epoch 16 / 20) train loss: 0.025473; val loss: 0.064596\n",
      "(Epoch 17 / 20) train loss: 0.025199; val loss: 0.062980\n",
      "(Epoch 18 / 20) train loss: 0.024964; val loss: 0.061446\n",
      "(Epoch 19 / 20) train loss: 0.024783; val loss: 0.059919\n",
      "(Epoch 20 / 20) train loss: 0.024602; val loss: 0.058685\n",
      "\n",
      "Evaluating Config #3 [of 5]:\n",
      " {'learning_rate': 0.00022934911287271487, 'reg': 5.60738519919816e-06, 'loss_func': <exercise_code.networks.loss.CrossEntropyFromLogits object at 0x000001ECAE7DE588>, 'hidden_size': 139, 'num_layer': 2, 'activation': <exercise_code.networks.layer.LeakyRelu object at 0x000001ECAE7DE548>, 'optimizer': <class 'exercise_code.networks.optimizer.Adam'>, 'std': 2.5059908404243217e-05}\n",
      "(Epoch 1 / 20) train loss: 2.302585; val loss: 2.302585\n",
      "(Epoch 2 / 20) train loss: 1.875925; val loss: 0.883656\n",
      "(Epoch 3 / 20) train loss: 0.426019; val loss: 0.248514\n",
      "(Epoch 4 / 20) train loss: 0.132585; val loss: 0.143944\n",
      "(Epoch 5 / 20) train loss: 0.072572; val loss: 0.117565\n",
      "(Epoch 6 / 20) train loss: 0.055707; val loss: 0.102825\n",
      "(Epoch 7 / 20) train loss: 0.039834; val loss: 0.090847\n",
      "(Epoch 8 / 20) train loss: 0.032859; val loss: 0.082187\n",
      "(Epoch 9 / 20) train loss: 0.029491; val loss: 0.076905\n",
      "(Epoch 10 / 20) train loss: 0.027972; val loss: 0.072129\n",
      "(Epoch 11 / 20) train loss: 0.027016; val loss: 0.069019\n",
      "(Epoch 12 / 20) train loss: 0.026288; val loss: 0.065855\n",
      "(Epoch 13 / 20) train loss: 0.025790; val loss: 0.063504\n",
      "(Epoch 14 / 20) train loss: 0.025412; val loss: 0.061189\n",
      "(Epoch 15 / 20) train loss: 0.025096; val loss: 0.059622\n",
      "(Epoch 16 / 20) train loss: 0.024863; val loss: 0.057990\n",
      "(Epoch 17 / 20) train loss: 0.024622; val loss: 0.056771\n",
      "(Epoch 18 / 20) train loss: 0.022280; val loss: 0.055861\n",
      "(Epoch 19 / 20) train loss: 0.017464; val loss: 0.054895\n",
      "(Epoch 20 / 20) train loss: 0.013296; val loss: 0.055103\n",
      "\n",
      "Evaluating Config #4 [of 5]:\n",
      " {'learning_rate': 0.00021104209069393884, 'reg': 2.2305958601621137e-06, 'loss_func': <exercise_code.networks.loss.CrossEntropyFromLogits object at 0x000001ECAE7DE588>, 'hidden_size': 138, 'num_layer': 4, 'activation': <exercise_code.networks.layer.LeakyRelu object at 0x000001ECAE7DE548>, 'optimizer': <class 'exercise_code.networks.optimizer.Adam'>, 'std': 4.135257820212904e-06}\n",
      "(Epoch 1 / 20) train loss: 2.302585; val loss: 2.302585\n",
      "(Epoch 2 / 20) train loss: 2.297907; val loss: 2.292339\n",
      "(Epoch 3 / 20) train loss: 2.284389; val loss: 2.273322\n",
      "(Epoch 4 / 20) train loss: 2.257644; val loss: 2.237383\n",
      "(Epoch 5 / 20) train loss: 2.211970; val loss: 2.179330\n",
      "(Epoch 6 / 20) train loss: 1.951693; val loss: 0.726110\n",
      "(Epoch 7 / 20) train loss: 0.159057; val loss: 0.043380\n",
      "(Epoch 8 / 20) train loss: 0.019847; val loss: 0.034888\n",
      "(Epoch 9 / 20) train loss: 0.016846; val loss: 0.034118\n",
      "(Epoch 10 / 20) train loss: 0.000337; val loss: 0.034954\n",
      "(Epoch 11 / 20) train loss: 0.000245; val loss: 0.034700\n",
      "(Epoch 12 / 20) train loss: 0.000198; val loss: 0.034445\n",
      "(Epoch 13 / 20) train loss: 0.000175; val loss: 0.034279\n",
      "(Epoch 14 / 20) train loss: 0.000156; val loss: 0.034109\n",
      "(Epoch 15 / 20) train loss: 0.000141; val loss: 0.033853\n",
      "(Epoch 16 / 20) train loss: 0.000129; val loss: 0.033667\n",
      "(Epoch 17 / 20) train loss: 0.000118; val loss: 0.033498\n",
      "(Epoch 18 / 20) train loss: 0.000110; val loss: 0.033388\n",
      "(Epoch 19 / 20) train loss: 0.000103; val loss: 0.033237\n",
      "(Epoch 20 / 20) train loss: 0.000096; val loss: 0.033114\n",
      "\n",
      "Evaluating Config #5 [of 5]:\n",
      " {'learning_rate': 0.0003242544296979493, 'reg': 6.719844315326518e-06, 'loss_func': <exercise_code.networks.loss.CrossEntropyFromLogits object at 0x000001ECAE7DE588>, 'hidden_size': 147, 'num_layer': 4, 'activation': <exercise_code.networks.layer.LeakyRelu object at 0x000001ECAE7DE548>, 'optimizer': <class 'exercise_code.networks.optimizer.Adam'>, 'std': 5.389790906483238e-06}\n",
      "(Epoch 1 / 20) train loss: 2.302585; val loss: 2.302585\n",
      "(Epoch 2 / 20) train loss: 2.294991; val loss: 2.284877\n",
      "(Epoch 3 / 20) train loss: 2.267765; val loss: 2.243203\n",
      "(Epoch 4 / 20) train loss: 2.206961; val loss: 2.156683\n",
      "(Epoch 5 / 20) train loss: 1.333342; val loss: 0.103057\n",
      "(Epoch 6 / 20) train loss: 0.069835; val loss: 0.022568\n",
      "(Epoch 7 / 20) train loss: 0.058990; val loss: 0.020702\n",
      "(Epoch 8 / 20) train loss: 0.056816; val loss: 0.019831\n",
      "(Epoch 9 / 20) train loss: 0.031032; val loss: 0.010345\n",
      "(Epoch 10 / 20) train loss: 0.019870; val loss: 0.007981\n",
      "(Epoch 11 / 20) train loss: 0.019787; val loss: 0.007770\n",
      "(Epoch 12 / 20) train loss: 0.019725; val loss: 0.007645\n",
      "(Epoch 13 / 20) train loss: 0.019610; val loss: 0.007598\n",
      "(Epoch 14 / 20) train loss: 0.019500; val loss: 0.007509\n",
      "(Epoch 15 / 20) train loss: 0.019396; val loss: 0.007406\n",
      "(Epoch 16 / 20) train loss: 0.019200; val loss: 0.007344\n",
      "(Epoch 17 / 20) train loss: 0.018990; val loss: 0.007298\n",
      "(Epoch 18 / 20) train loss: 0.018749; val loss: 0.007275\n",
      "(Epoch 19 / 20) train loss: 0.018425; val loss: 0.007264\n",
      "(Epoch 20 / 20) train loss: 0.018253; val loss: 0.007221\n",
      "\n",
      "Search done. Best Val Loss = 0.007221241450932959\n",
      "Best Config: {'learning_rate': 0.0003242544296979493, 'reg': 6.719844315326518e-06, 'loss_func': <exercise_code.networks.loss.CrossEntropyFromLogits object at 0x000001ECAE7DE588>, 'hidden_size': 147, 'num_layer': 4, 'activation': <exercise_code.networks.layer.LeakyRelu object at 0x000001ECAE7DE548>, 'optimizer': <class 'exercise_code.networks.optimizer.Adam'>, 'std': 5.389790906483238e-06}\n"
     ]
    }
   ],
   "source": [
    "from exercise_code.hyperparameter_tuning import random_search\n",
    "from exercise_code.networks import MyOwnNetwork\n",
    "\n",
    "best_model = ClassificationNet()\n",
    "#best_model = MyOwnNetwork()\n",
    "\n",
    "########################################################################\n",
    "# TODO:                                                                #\n",
    "# Implement your own neural network and find suitable hyperparameters  #\n",
    "# Be sure to edit the MyOwnNetwork class in the following code snippet #\n",
    "# to upload the correct model!                                         #\n",
    "########################################################################\n",
    "# write your code here\n",
    "\n",
    "# Setup dataset\n",
    "num_samples = 100 # change here for larger datasets\n",
    "\n",
    "# Make a new data loader with a our num_samples training image\n",
    "overfit_dataset = ImageFolderDataset(\n",
    "    mode='train',\n",
    "    root=cifar_root, \n",
    "    download_url=download_url,\n",
    "    transform=compose_transform,\n",
    "    limit_files=num_samples\n",
    ")\n",
    "dataloaders['customDataset'] = DataLoader(\n",
    "    dataset=overfit_dataset,\n",
    "    batch_size=batch_size,\n",
    "    shuffle=True,\n",
    "    drop_last=False,\n",
    ")\n",
    "\n",
    "\n",
    "# Setup hyperparameter search\n",
    "# Specify the used network\n",
    "model_class = ClassificationNet\n",
    "\n",
    "best_model, results = random_search(\n",
    "    dataloaders['customDataset'], dataloaders['val_500files'],\n",
    "    random_search_spaces = {\n",
    "        \"learning_rate\": ([1e-3, 1e-4], 'log'),\n",
    "        \"reg\": ([1e-5, 1e-6], \"log\"),\n",
    "        \"loss_func\": ([CrossEntropyFromLogits()], \"item\"),\n",
    "        \"hidden_size\": ([130, 150], \"int\"),\n",
    "        \"num_layer\": ([2, 4], \"int\"),\n",
    "        \"activation\": ([LeakyRelu()], \"item\"),\n",
    "        \"optimizer\": ([Adam], \"item\"),\n",
    "        \"std\": ([1e-4, 1e-6], \"log\")\n",
    "    },\n",
    "    model_class=model_class,\n",
    "    num_search = 5, epochs=20, patience=5)\n",
    "\n",
    "\n",
    "########################################################################\n",
    "#                           END OF YOUR CODE                           #\n",
    "########################################################################"
   ]
  },
  {
   "cell_type": "markdown",
   "metadata": {},
   "source": [
    "Now it's time to edit the ranges above and adjust them to explore regions that performed well!\n",
    "\n",
    "Also, feel free to experiment around! Also the network architecture, optimizer options and activations functions, etc. are hyperparameters that you can change!\n",
    "\n",
    "Try to get your accuracy as high as possible! That's all what counts for this submission!\n",
    "\n",
    "You'll pass if you reach at least **48%** accuracy on our test set - but there will also be a leaderboard of all students of this course. Will you make it to the top?"
   ]
  },
  {
   "cell_type": "markdown",
   "metadata": {},
   "source": [
    "## 3.5 Checking the validation accuracy"
   ]
  },
  {
   "cell_type": "code",
   "execution_count": 18,
   "metadata": {},
   "outputs": [
    {
     "name": "stdout",
     "output_type": "stream",
     "text": [
      "Train Accuracy: 100.0%\n",
      "Validation Accuracy: 100.0%\n"
     ]
    }
   ],
   "source": [
    "labels, pred, acc = best_model.get_dataset_prediction(dataloaders['customDataset'])\n",
    "print(\"Train Accuracy: {}%\".format(acc*100))\n",
    "labels, pred, acc = best_model.get_dataset_prediction(dataloaders['val_500files'])\n",
    "print(\"Validation Accuracy: {}%\".format(acc*100))"
   ]
  },
  {
   "cell_type": "markdown",
   "metadata": {},
   "source": [
    "# 4. Test your model\n",
    "When you have finished your hyperparameter tuning and are sure you have your final model that performs well on the validation set (**you should at least get 48% accuracy on the validation set!**), it's time to run your  model on the test set.\n",
    "\n",
    "<div class=\"alert alert-danger\">\n",
    "    <h3>Important</h3>\n",
    "    <p>As you have learned in the lecture, you must only use the test set one single time! So only run the next cell if you are really sure your model works well enough and that you want to submit. Your test set is different from the test set on our server, so results may vary. Nevertheless, you will have a reasonable close approximation about your performance if you only do a final evaluation on the test set.</p>\n",
    "    <p>If you are an external student that can't use our submission webpage: this test performance is your final result and if you surpassed the threshold, you have completed this exercise :). Now, train again to aim for a better number!</p>\n",
    "</div>"
   ]
  },
  {
   "cell_type": "code",
   "execution_count": null,
   "metadata": {},
   "outputs": [],
   "source": [
    "# comment this part out to see your model's performance on the test set.\n",
    "labels, pred, acc = best_model.get_dataset_prediction(dataloaders['test'])\n",
    "print(\"Test Accuracy: {}%\".format(acc*100))\n"
   ]
  },
  {
   "cell_type": "markdown",
   "metadata": {},
   "source": [
    "<div class=\"alert alert-warning\">\n",
    "    <h3>Note:</h3>\n",
    "    <p>The \"real\" test set is actually the dataset we're using for testing your model, which is <b>different</b> from the test-set you're using here.</p>\n",
    "</div>"
   ]
  },
  {
   "cell_type": "markdown",
   "metadata": {},
   "source": [
    "# 5. Saving your Model"
   ]
  },
  {
   "cell_type": "code",
   "execution_count": null,
   "metadata": {},
   "outputs": [],
   "source": [
    "from exercise_code.tests import save_pickle\n",
    "save_pickle({\"cifar_fcn\": best_model}, \"cifar_fcn.p\")"
   ]
  },
  {
   "cell_type": "code",
   "execution_count": null,
   "metadata": {},
   "outputs": [],
   "source": [
    "from exercise_code.submit import submit_exercise\n",
    "\n",
    "submit_exercise('exercise06')"
   ]
  },
  {
   "cell_type": "markdown",
   "metadata": {},
   "source": [
    "# 6. Submission Instructions\n",
    "\n",
    "Congratulations! You've just built your first image classifier! To complete the exercise, submit your final model to our submission portal - you probably know the procedure by now.\n",
    "\n",
    "1. Go on [our submission page](https://i2dl.vc.in.tum.de/), register for an account and login. We use your matriculation number and send an email with the login details to the mail account associated. When in doubt, login into tum-online and check your mails there. You will get an id which we need in the next step.\n",
    "2. Log into [our submission page](https://i2dl.vc.in.tum.de/) with your account details and upload the zip file.\n",
    "3. Your submission will be evaluated by our system and you will get feedback about the performance of it. You will get an email with your score as well as a message if you have surpassed the threshold.\n",
    "4. Within the working period, you can submit as many solutions as you want to get the best possible score.\n",
    "\n",
    "\n",
    "# 7. Submission Goals\n",
    "\n",
    "- Goal: Successfully implement a fully connected NN image classifier, tune hyperparameters.\n",
    "\n",
    "- Passing Criteria: This time, there are no unit tests that check specific components of your code. The only thing that's required to pass the submission, is your model to reach at least **48% accuracy** on __our__ test dataset. The submission system will show you a number between 0 and 100 which corresponds to your accuracy.\n",
    "\n",
    "- Submission start: __Nov 25, 2021 13:00:00__\n",
    "- Submission deadline : __Dec 01, 2021 15:59:59__ \n",
    "- You can make **$\\infty$** submissions until the deadline. Your __best submission__ will be considered for bonus"
   ]
  },
  {
   "cell_type": "code",
   "execution_count": null,
   "metadata": {},
   "outputs": [],
   "source": []
  }
 ],
 "metadata": {
  "kernelspec": {
   "display_name": "Python 3",
   "language": "python",
   "name": "python3"
  },
  "language_info": {
   "codemirror_mode": {
    "name": "ipython",
    "version": 3
   },
   "file_extension": ".py",
   "mimetype": "text/x-python",
   "name": "python",
   "nbconvert_exporter": "python",
   "pygments_lexer": "ipython3",
   "version": "3.7.11"
  }
 },
 "nbformat": 4,
 "nbformat_minor": 1
}
